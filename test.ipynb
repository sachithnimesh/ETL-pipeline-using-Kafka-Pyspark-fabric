{
 "cells": [
  {
   "cell_type": "code",
   "execution_count": 5,
   "id": "77951193",
   "metadata": {},
   "outputs": [
    {
     "name": "stdout",
     "output_type": "stream",
     "text": [
      "No Kafka brokers available at 'localhost:9092'. Please ensure Kafka is running and accessible.\n"
     ]
    }
   ],
   "source": [
    "from kafka import KafkaConsumer\n",
    "from kafka.errors import NoBrokersAvailable\n",
    "\n",
    "# Add your Kafka broker addresses here\n",
    "try:\n",
    "    consumer = KafkaConsumer('sample', bootstrap_servers='localhost:9092')\n",
    "    for message in consumer:\n",
    "        print(message)\n",
    "except NoBrokersAvailable:\n",
    "    print(\"No Kafka brokers available at 'localhost:9092'. Please ensure Kafka is running and accessible.\")"
   ]
  },
  {
   "cell_type": "code",
   "execution_count": null,
   "id": "e8b33fad",
   "metadata": {},
   "outputs": [],
   "source": []
  }
 ],
 "metadata": {
  "kernelspec": {
   "display_name": ".conda",
   "language": "python",
   "name": "python3"
  },
  "language_info": {
   "codemirror_mode": {
    "name": "ipython",
    "version": 3
   },
   "file_extension": ".py",
   "mimetype": "text/x-python",
   "name": "python",
   "nbconvert_exporter": "python",
   "pygments_lexer": "ipython3",
   "version": "3.11.13"
  }
 },
 "nbformat": 4,
 "nbformat_minor": 5
}
